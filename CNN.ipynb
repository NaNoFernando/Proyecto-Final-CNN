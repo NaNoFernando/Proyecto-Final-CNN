{
 "cells": [
  {
   "cell_type": "markdown",
   "metadata": {},
   "source": [
    "## tensorflow sirve para construir , entrenar redes neuronales y desifrar patrones\n",
    "#### keras sirbe para deep learning para crear redes neuronales, proporciona bloques modulares para luego  desarrolar proyectos complejos"
   ]
  },
  {
   "cell_type": "code",
   "execution_count": 1,
   "metadata": {},
   "outputs": [],
   "source": [
    "#Sequential =solo permite que las capas se agreguen en secuencia, es un modelo basico, es como si estubieramos preparando un MOLDE para hacer galletas.\n",
    "from tensorflow.keras.models import Sequential\n",
    "#Dense sirbe para recibir una entrada unidimencionalidad en un array de la imagen, sirbe para imagenes pequenas (28x28 px), tambien sirve para crear redes neuronales.\n",
    "from tensorflow.keras.layers import Dense\n",
    "#usamos redes convolucion = orientadas a clasificar imagenes, es decir que tendran similitud a las redes neuronales humanas, un proceso similar a ojo humano y su proceso de tratamiento de imagenes.\n",
    "#sConvolution2D =sirve para capturar imagenes, y crear datos mas digeribles para las capas posteriores atraves de operaciones con un o unos kernels.\n",
    "from tensorflow.keras.layers import Convolution2D\n",
    "#aplica un filtro que reduce la dimencion de la imagen a tratar y dejando el valor mas grande.\n",
    "from tensorflow.keras.layers import MaxPooling2D\n",
    "#convierte los elementos de la matriz de imagenes de entrada en un array de datos.\n",
    "from tensorflow.keras.layers import Flatten"
   ]
  },
  {
   "cell_type": "code",
   "execution_count": 2,
   "metadata": {},
   "outputs": [],
   "source": [
    "#opencv sirbe para vision artificial, es libre y leer las imagenes.\n",
    "import cv2\n",
    "#numpy sirbe para crear y hacer operaciones entre vectores, listas y matrices.\n",
    "import numpy as np\n",
    "#glob debuelve una lista con todas las rutas de los elementos almacenados alli.\n",
    "import glob\n",
    "#os realiza operaciones dentro del sistema operativo como crear carpetas,listar contenidos de la carpeta.\n",
    "import os\n",
    "#proceso aleatorio, barajeo de forma aleatoria como las cartas de un casino.\n",
    "from random import shuffle"
   ]
  },
  {
   "cell_type": "markdown",
   "metadata": {},
   "source": [
    "## '''Vemos el efecto de Sequential, anade capas unas detras de otras'''"
   ]
  },
  {
   "cell_type": "code",
   "execution_count": 3,
   "metadata": {},
   "outputs": [],
   "source": [
    "#cargamos el modelo con la estructura secuencial\n",
    "modelo=Sequential()"
   ]
  },
  {
   "cell_type": "markdown",
   "metadata": {},
   "source": [
    "## '''1 capa entrara por una capa de convolucion de 32 kernels cada uno de 3x3'''"
   ]
  },
  {
   "cell_type": "code",
   "execution_count": 4,
   "metadata": {},
   "outputs": [
    {
     "name": "stdout",
     "output_type": "stream",
     "text": [
      "WARNING:tensorflow:From C:\\ProgramData\\Anaconda3\\lib\\site-packages\\tensorflow_core\\python\\ops\\resource_variable_ops.py:1630: calling BaseResourceVariable.__init__ (from tensorflow.python.ops.resource_variable_ops) with constraint is deprecated and will be removed in a future version.\n",
      "Instructions for updating:\n",
      "If using Keras pass *_constraint arguments to layers.\n"
     ]
    }
   ],
   "source": [
    "#definimos el KERNEL de 32 KERNELS de 3x3 cada uno con 224x224(tamano estandart de cada imagen que leera el programa)cada IMAGEN x3 que es la cantidad de canales RGB y por ultimo la funcion de activacion RELU(deja los valores positivos como estan y los negativos los pone en 0 por que nos dira si tiene cancer o no es RESPUESTA BINARIA)...........AHORA BIEN ESTO NOS ARROJARA SI TIENE O NO CANCER MAS O BUENO, si queremos saber si tiene lesiones o cuan grave es entonces se usa la funion de activacion softmax por que las respuestas seran mas de 2(binario)\n",
    "modelo.add(Convolution2D(32,(3,3),input_shape=(224,224,3),activation='relu'))"
   ]
  },
  {
   "cell_type": "markdown",
   "metadata": {},
   "source": [
    "## '''2 capa'''"
   ]
  },
  {
   "cell_type": "code",
   "execution_count": 5,
   "metadata": {},
   "outputs": [],
   "source": [
    "#pool_size es una ventana de 2x2, se queda con los valores mas grandes dentro de la ventana de 2x2.sirve para encontrar las caracteristicas mas definidas o rasgos importantes en las imagenes. como los contornos de importancia de una imagen.\n",
    "modelo.add(MaxPooling2D(pool_size=((2,2))))"
   ]
  },
  {
   "cell_type": "markdown",
   "metadata": {},
   "source": [
    "### Podemos repetir los pasos de convolucion y MaxPooling si asi lo requiere el modelo, pero en este caso no sera nesesario pues tenemos apenas menos de 5000 imagenes."
   ]
  },
  {
   "cell_type": "markdown",
   "metadata": {},
   "source": [
    "## '''3 capa'''"
   ]
  },
  {
   "cell_type": "code",
   "execution_count": 6,
   "metadata": {},
   "outputs": [],
   "source": [
    "#los datos se vuelve a un array de datos que serviran de entrada para la red neuronal.\n",
    "modelo.add(Flatten())"
   ]
  },
  {
   "cell_type": "markdown",
   "metadata": {},
   "source": [
    "## '''Creamos la RED NEURONAL===> CAPA DE ENTRADA de tipo convolucion'''"
   ]
  },
  {
   "cell_type": "code",
   "execution_count": 9,
   "metadata": {},
   "outputs": [],
   "source": [
    "#se añade una capa  de 128 neuronas con la formula de relu(deja los positivos y pone en 0 los negativos, toma valores de 0-infinito)\n",
    "modelo.add(Dense(128,activation='relu'))"
   ]
  },
  {
   "cell_type": "markdown",
   "metadata": {},
   "source": [
    "## '''Creamos una capa oculta de 50 neuronas'''"
   ]
  },
  {
   "cell_type": "code",
   "execution_count": 11,
   "metadata": {},
   "outputs": [],
   "source": [
    "#se añade una capa  de 50 neuronas con la formula de relu\n",
    "modelo.add(Dense(50,activation='relu'))"
   ]
  },
  {
   "cell_type": "markdown",
   "metadata": {},
   "source": [
    "## '''La capa de SALIDA sera de una neurona (sigmoid)por que nos dira si tiene 1 o no tiene 0 cancer, si queremos valores de rango [0-0.1-0.2....1] usamos softmax eso es para saber cuan grave es la lesion'''\n"
   ]
  },
  {
   "cell_type": "code",
   "execution_count": 12,
   "metadata": {},
   "outputs": [],
   "source": [
    "#es la capa de salida con UNA neurona, el resultado BINARIO entonces es sigmoid\n",
    "modelo.add(Dense(1,activation='sigmoid'))"
   ]
  },
  {
   "cell_type": "code",
   "execution_count": 13,
   "metadata": {},
   "outputs": [
    {
     "name": "stdout",
     "output_type": "stream",
     "text": [
      "WARNING:tensorflow:From C:\\ProgramData\\Anaconda3\\lib\\site-packages\\tensorflow_core\\python\\ops\\nn_impl.py:183: where (from tensorflow.python.ops.array_ops) is deprecated and will be removed in a future version.\n",
      "Instructions for updating:\n",
      "Use tf.where in 2.0, which has the same broadcast rule as np.where\n"
     ]
    }
   ],
   "source": [
    "#compilamos con las siguientes caracteristicas : creamos la funcion para hallar el minimo error optimo(adam),funcion de perdida=crosentopia binaria,accuracy nos muestra las metricas de la efectividad respecto al modelo utilizado y los datos ingresados\n",
    "modelo.compile(optimizer='adam',loss='binary_crossentropy',metrics=['accuracy'])"
   ]
  },
  {
   "cell_type": "markdown",
   "metadata": {},
   "source": [
    "# '''INICIO DEL PRE PROCESAMIENTO de datos'''\n",
    "### '''Creamos las listas para almacenar los metodos de entrenamiento y prueva, ademas de una auxiliar'''"
   ]
  },
  {
   "cell_type": "code",
   "execution_count": 14,
   "metadata": {},
   "outputs": [],
   "source": [
    "X_train=[]\n",
    "X_test=[]\n",
    "Y_test=[]\n",
    "Y_train=[]\n",
    "#crea una LISTA auxiliar para obtener la informacion de forma ALEATORIA para luego pasarle a la red neuronal\n",
    "dataTr=[]"
   ]
  },
  {
   "cell_type": "code",
   "execution_count": 15,
   "metadata": {},
   "outputs": [],
   "source": [
    "#lee todos los archivos que tenga esta extencion en esta carpeta de forma ordenada\n",
    "for filename in glob.glob(os.path.join('data/train/malignant','*.jpg')):\n",
    "    #guardamos en la lista primero la etiqueta 1, junto con su respectiva imagen en este caso MALIGNO\n",
    "    dataTr.append([1,cv2.imread(filename)])\n",
    "for filename in glob.glob(os.path.join('data/train/benign','*.jpg')):\n",
    "    #se hace lo mismo pero con 0 para BENIGNO\n",
    "    dataTr.append([0,cv2.imread(filename)])"
   ]
  },
  {
   "cell_type": "code",
   "execution_count": 16,
   "metadata": {},
   "outputs": [],
   "source": [
    "#aqui es donde barajamos la lista, asi lo volvemos aleatorio\n",
    "shuffle(dataTr)"
   ]
  },
  {
   "cell_type": "markdown",
   "metadata": {},
   "source": [
    "# '''FINAL DEL PRE PROSESAMIENTO DE DATOS'''"
   ]
  },
  {
   "cell_type": "code",
   "execution_count": 17,
   "metadata": {},
   "outputs": [],
   "source": [
    "#para sacar las etiquetas y sus respectivas imagenes\n",
    "for i,j in dataTr:\n",
    "    #guarda las imagenes\n",
    "    X_train.append(j)\n",
    "    #guarda las etiquetas 0 o 1\n",
    "    Y_train.append(i)"
   ]
  },
  {
   "cell_type": "code",
   "execution_count": 18,
   "metadata": {},
   "outputs": [],
   "source": [
    "#pasamos de una LISTA a un array para que pueda leerlo TENSERFLOW\n",
    "X_train=np.array(X_train)\n",
    "Y_train=np.array(Y_train)"
   ]
  },
  {
   "cell_type": "code",
   "execution_count": 19,
   "metadata": {},
   "outputs": [],
   "source": [
    "#hacemos lo mismo pero esta ves para prueva\n",
    "for filename in glob.glob(os.path.join('data/test/malignant','*.jpg')):\n",
    "    X_test.append(cv2.imread(filename))\n",
    "    Y_test.append(1)\n",
    "for filename in glob.glob(os.path.join('data/test/benign','*.jpg')):\n",
    "    X_test.append(cv2.imread(filename))\n",
    "    Y_test.append(0)"
   ]
  },
  {
   "cell_type": "code",
   "execution_count": 20,
   "metadata": {},
   "outputs": [],
   "source": [
    "#convertimos de lista a array\n",
    "X_test=np.array(X_test)\n",
    "Y_test=np.array(Y_test)"
   ]
  },
  {
   "cell_type": "code",
   "execution_count": 26,
   "metadata": {},
   "outputs": [
    {
     "name": "stdout",
     "output_type": "stream",
     "text": [
      "Train on 2637 samples, validate on 660 samples\n",
      "Epoch 1/10\n",
      "2637/2637 [==============================] - 247s 94ms/sample - loss: 0.2789 - acc: 0.9181 - val_loss: 1.4119 - val_acc: 0.7455\n",
      "Epoch 2/10\n",
      "2637/2637 [==============================] - 218s 83ms/sample - loss: 0.1328 - acc: 0.9583 - val_loss: 2.0835 - val_acc: 0.7394\n",
      "Epoch 3/10\n",
      "2637/2637 [==============================] - 231s 88ms/sample - loss: 0.0958 - acc: 0.9697 - val_loss: 2.4515 - val_acc: 0.7379\n",
      "Epoch 4/10\n",
      "2637/2637 [==============================] - 211s 80ms/sample - loss: 0.0378 - acc: 0.9867 - val_loss: 3.5055 - val_acc: 0.7258\n",
      "Epoch 5/10\n",
      "2637/2637 [==============================] - 199s 75ms/sample - loss: 0.0394 - acc: 0.9879 - val_loss: 3.6068 - val_acc: 0.7167\n",
      "Epoch 6/10\n",
      "2637/2637 [==============================] - 201s 76ms/sample - loss: 0.0356 - acc: 0.9882 - val_loss: 3.9825 - val_acc: 0.7303\n",
      "Epoch 7/10\n",
      "2637/2637 [==============================] - 211s 80ms/sample - loss: 0.0138 - acc: 0.9954 - val_loss: 5.2385 - val_acc: 0.7348\n",
      "Epoch 8/10\n",
      "2637/2637 [==============================] - 198s 75ms/sample - loss: 0.0104 - acc: 0.9954 - val_loss: 6.1871 - val_acc: 0.7409\n",
      "Epoch 9/10\n",
      "2637/2637 [==============================] - 199s 75ms/sample - loss: 0.0082 - acc: 0.9970 - val_loss: 6.5730 - val_acc: 0.7364\n",
      "Epoch 10/10\n",
      "2637/2637 [==============================] - 202s 76ms/sample - loss: 0.0072 - acc: 0.9970 - val_loss: 7.1770 - val_acc: 0.7364\n"
     ]
    },
    {
     "data": {
      "text/plain": [
       "<tensorflow.python.keras.callbacks.History at 0x2573e6461d0>"
      ]
     },
     "execution_count": 26,
     "metadata": {},
     "output_type": "execute_result"
    }
   ],
   "source": [
    "#la base de datos se pasara 10 veces, por que si aumentamos sera mejor por que el sistema estaria aprendiendo mas de los datos pero muy lento,,,,,,, valitadion nos sirve para validar una prueba, cada ves que pase una base de datos(epoca)muestra la efectividad de entrenmiento y de prueba\n",
    "modelo.fit(X_train,Y_train,batch_size=32,epochs=10,validation_data=(X_test,Y_test))"
   ]
  },
  {
   "cell_type": "markdown",
   "metadata": {},
   "source": [
    "###  *loss = funcion de costo que la minimiza, mientras mas pequeno significa que ha minimizado el error que utiliza la tecnica desenso de gradiente, minimiza el error mirando el gtradiente del mismo error\n",
    "###  *accuracy = efectividad de entrenamiento, cada epoca la efectividad aumenta\n",
    "###  *val_accuracy= es lo mismo que loss pero para los datos de prueba\n",
    "###  *val_accuracy= es la efectividad pero para los DATOS DE PRUEBA en cada epoca aumenta"
   ]
  },
  {
   "cell_type": "code",
   "execution_count": 27,
   "metadata": {},
   "outputs": [
    {
     "name": "stdout",
     "output_type": "stream",
     "text": [
      "La lesion es Benigna\n"
     ]
    }
   ],
   "source": [
    "ruta='data/test/benign/323.jpg'\n",
    "I=cv2.imread(ruta)\n",
    "#lo volvemos para que pueda ser procesado y preguntamos si tiene etiqueta 1(es cancer) o etiqueta 0(No tiene cancer)\n",
    "if round(modelo.predict(np.array([I]))[0][0])==1:\n",
    "    print(\"La lesion es cancer\")\n",
    "    cv2.imshow(\"Cancer\",I)\n",
    "else:\n",
    "    print(\"La lesion es Benigna\")\n",
    "    cv2.imshow(\"Benigna\",I)\n",
    "#Cierra la imagen con solo apretar una tecla, tambien sirve para que no cause problemas en jupyter notebook\n",
    "cv2.waitKey(0)\n",
    "cv2.destroyAllWindows()"
   ]
  },
  {
   "cell_type": "code",
   "execution_count": null,
   "metadata": {},
   "outputs": [],
   "source": []
  }
 ],
 "metadata": {
  "kernelspec": {
   "display_name": "Python 3",
   "language": "python",
   "name": "python3"
  },
  "language_info": {
   "codemirror_mode": {
    "name": "ipython",
    "version": 3
   },
   "file_extension": ".py",
   "mimetype": "text/x-python",
   "name": "python",
   "nbconvert_exporter": "python",
   "pygments_lexer": "ipython3",
   "version": "3.7.3"
  }
 },
 "nbformat": 4,
 "nbformat_minor": 2
}
